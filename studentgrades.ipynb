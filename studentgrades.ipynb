{
 "cells": [
  {
   "cell_type": "code",
   "execution_count": 1,
   "id": "7ea9b48b-cf94-49e0-8345-71373aecc83c",
   "metadata": {},
   "outputs": [],
   "source": [
    "import pandas as pd"
   ]
  },
  {
   "cell_type": "code",
   "execution_count": 3,
   "id": "e6d2bd54-10de-4766-b815-5ca05929947f",
   "metadata": {},
   "outputs": [
    {
     "name": "stdout",
     "output_type": "stream",
     "text": [
      "        Name  Maths  Physics  Chemistry\n",
      "0       John     45       22         98\n",
      "1    William     44       23          2\n",
      "2      Henry     22       89         35\n",
      "3      Chris     88       55         23\n",
      "4       Jack     45       89         45\n",
      "5   Stephane     64       45         48\n",
      "6     Harald     12       12         12\n",
      "7     Hearmy     78       94         65\n",
      "8     Sinsel     98       95         23\n",
      "9     George     45       65         89\n",
      "10     James     64       32         26\n",
      "11      Jade     23       78         47\n",
      "12     Tommy     45       98         14\n",
      "13     Yonus     78       45         44\n",
      "14     Randy     95       12         84\n",
      "15       Rex     31       95         98\n",
      "16    Tucsan     77       32         56\n",
      "17     Amell     87       78         34\n",
      "18       Vin     65       45         78\n",
      "19    Hector     32       12         78\n"
     ]
    }
   ],
   "source": [
    "dataset = pd.read_csv(r'C:\\Users\\Tashana\\Downloads\\Python-Modules-Tutorial-main\\Python-Modules-Tutorial-main\\student-marks.csv')\n",
    "print(dataset)"
   ]
  },
  {
   "cell_type": "code",
   "execution_count": 4,
   "id": "add67d83-84c0-4ae8-86ac-63999d9aad96",
   "metadata": {},
   "outputs": [
    {
     "name": "stdout",
     "output_type": "stream",
     "text": [
      "[['John' 45 22 98]\n",
      " ['William' 44 23 2]\n",
      " ['Henry' 22 89 35]\n",
      " ['Chris' 88 55 23]\n",
      " ['Jack' 45 89 45]\n",
      " ['Stephane' 64 45 48]\n",
      " ['Harald' 12 12 12]\n",
      " ['Hearmy' 78 94 65]\n",
      " ['Sinsel' 98 95 23]\n",
      " ['George' 45 65 89]\n",
      " ['James' 64 32 26]\n",
      " ['Jade' 23 78 47]\n",
      " ['Tommy' 45 98 14]\n",
      " ['Yonus' 78 45 44]\n",
      " ['Randy' 95 12 84]\n",
      " ['Rex' 31 95 98]\n",
      " ['Tucsan' 77 32 56]\n",
      " ['Amell' 87 78 34]\n",
      " ['Vin' 65 45 78]\n",
      " ['Hector' 32 12 78]]\n"
     ]
    }
   ],
   "source": [
    "dataset = pd.read_csv(r'C:\\Users\\Tashana\\Downloads\\Python-Modules-Tutorial-main\\Python-Modules-Tutorial-main\\student-marks.csv').values\n",
    "print(dataset)"
   ]
  },
  {
   "cell_type": "code",
   "execution_count": 5,
   "id": "7ab92a6b-0051-4af3-b246-abd51813879c",
   "metadata": {},
   "outputs": [
    {
     "name": "stdout",
     "output_type": "stream",
     "text": [
      "[55.0 23.0 48.666666666666664 55.333333333333336 59.666666666666664\n",
      " 52.333333333333336 12.0 79.0 72.0 66.33333333333333 40.666666666666664\n",
      " 49.333333333333336 52.333333333333336 55.666666666666664\n",
      " 63.666666666666664 74.66666666666667 55.0 66.33333333333333\n",
      " 62.666666666666664 40.666666666666664]\n"
     ]
    }
   ],
   "source": [
    "import numpy as np\n",
    "avg= np.mean(dataset[:,1:], axis=1)\n",
    "print(avg)"
   ]
  },
  {
   "cell_type": "code",
   "execution_count": 9,
   "id": "e5346ca2-7b5a-4364-9dd1-25319d439300",
   "metadata": {},
   "outputs": [],
   "source": [
    "def findgrade(mark):\n",
    "    if(mark>=0 and mark<35):\n",
    "        grade= 'F'\n",
    "    elif(mark>=35 and mark<55):\n",
    "        grade= 'S'\n",
    "    elif(mark>=35 and mark<65):\n",
    "        grade= 'C'\n",
    "    elif(mark>=65 and mark<75):\n",
    "        grade= 'B'\n",
    "    elif(mark>=75 and mark<100):\n",
    "        grade= 'A'\n",
    "    return grade"
   ]
  },
  {
   "cell_type": "code",
   "execution_count": 10,
   "id": "5e57abc5-9ba2-43ca-a5a3-0c901a98dfdc",
   "metadata": {},
   "outputs": [
    {
     "name": "stdout",
     "output_type": "stream",
     "text": [
      "['S' 'S' 'F' 'A' 'S' 'C' 'F' 'A' 'A' 'S' 'C' 'F' 'S' 'A' 'A' 'F' 'A' 'A'\n",
      " 'B' 'F']\n"
     ]
    }
   ],
   "source": [
    "mathsGrades = np.array([findgrade(i) for i in dataset[:,1]])\n",
    "print(mathsGrades)"
   ]
  },
  {
   "cell_type": "code",
   "execution_count": 11,
   "id": "6af1f232-2c0f-450f-8608-8b25895f8175",
   "metadata": {},
   "outputs": [
    {
     "name": "stdout",
     "output_type": "stream",
     "text": [
      "[['S']\n",
      " ['S']\n",
      " ['F']\n",
      " ['A']\n",
      " ['S']\n",
      " ['C']\n",
      " ['F']\n",
      " ['A']\n",
      " ['A']\n",
      " ['S']\n",
      " ['C']\n",
      " ['F']\n",
      " ['S']\n",
      " ['A']\n",
      " ['A']\n",
      " ['F']\n",
      " ['A']\n",
      " ['A']\n",
      " ['B']\n",
      " ['F']]\n"
     ]
    }
   ],
   "source": [
    "print(mathsGrades.reshape(-1,1))"
   ]
  },
  {
   "cell_type": "code",
   "execution_count": 12,
   "id": "d89cb8b7-c912-49f0-b9df-47cb9e587240",
   "metadata": {},
   "outputs": [
    {
     "name": "stdout",
     "output_type": "stream",
     "text": [
      "[['S']\n",
      " ['S']\n",
      " ['F']\n",
      " ['A']\n",
      " ['S']\n",
      " ['C']\n",
      " ['F']\n",
      " ['A']\n",
      " ['A']\n",
      " ['S']\n",
      " ['C']\n",
      " ['F']\n",
      " ['S']\n",
      " ['A']\n",
      " ['A']\n",
      " ['F']\n",
      " ['A']\n",
      " ['A']\n",
      " ['B']\n",
      " ['F']]\n"
     ]
    }
   ],
   "source": [
    "mathsGrades = mathsGrades.reshape(-1,1)\n",
    "print(mathsGrades)"
   ]
  },
  {
   "cell_type": "code",
   "execution_count": 13,
   "id": "c224cb86-ac8d-4b24-a6fc-436b92829cbc",
   "metadata": {},
   "outputs": [
    {
     "name": "stdout",
     "output_type": "stream",
     "text": [
      "[['F']\n",
      " ['F']\n",
      " ['A']\n",
      " ['C']\n",
      " ['A']\n",
      " ['S']\n",
      " ['F']\n",
      " ['A']\n",
      " ['A']\n",
      " ['B']\n",
      " ['F']\n",
      " ['A']\n",
      " ['A']\n",
      " ['S']\n",
      " ['F']\n",
      " ['A']\n",
      " ['F']\n",
      " ['A']\n",
      " ['S']\n",
      " ['F']]\n"
     ]
    }
   ],
   "source": [
    "phyGrades = np.array([findgrade(i) for i in dataset[:,2]])\n",
    "phyGrades = phyGrades.reshape(-1,1)\n",
    "print(phyGrades)"
   ]
  },
  {
   "cell_type": "code",
   "execution_count": 14,
   "id": "ef6472ec-ba5c-4245-8e19-d23ec64939d6",
   "metadata": {},
   "outputs": [
    {
     "name": "stdout",
     "output_type": "stream",
     "text": [
      "[['A']\n",
      " ['F']\n",
      " ['S']\n",
      " ['F']\n",
      " ['S']\n",
      " ['S']\n",
      " ['F']\n",
      " ['B']\n",
      " ['F']\n",
      " ['A']\n",
      " ['F']\n",
      " ['S']\n",
      " ['F']\n",
      " ['S']\n",
      " ['A']\n",
      " ['A']\n",
      " ['C']\n",
      " ['F']\n",
      " ['A']\n",
      " ['A']]\n"
     ]
    }
   ],
   "source": [
    "chemGrades = np.array([findgrade(i) for i in dataset[:,3]])\n",
    "chemGrades = chemGrades.reshape(-1,1)\n",
    "print(chemGrades)"
   ]
  },
  {
   "cell_type": "code",
   "execution_count": 15,
   "id": "09d4772d-6e31-406c-8f65-4ec31f27ba93",
   "metadata": {},
   "outputs": [
    {
     "name": "stdout",
     "output_type": "stream",
     "text": [
      "[[55.0]\n",
      " [23.0]\n",
      " [48.666666666666664]\n",
      " [55.333333333333336]\n",
      " [59.666666666666664]\n",
      " [52.333333333333336]\n",
      " [12.0]\n",
      " [79.0]\n",
      " [72.0]\n",
      " [66.33333333333333]\n",
      " [40.666666666666664]\n",
      " [49.333333333333336]\n",
      " [52.333333333333336]\n",
      " [55.666666666666664]\n",
      " [63.666666666666664]\n",
      " [74.66666666666667]\n",
      " [55.0]\n",
      " [66.33333333333333]\n",
      " [62.666666666666664]\n",
      " [40.666666666666664]]\n"
     ]
    }
   ],
   "source": [
    "avg = avg.reshape(-1,1).reshape(-1,1)\n",
    "print(avg)"
   ]
  },
  {
   "cell_type": "code",
   "execution_count": 16,
   "id": "7cf7e162-1b73-4921-b596-9cc2ad7e0eb4",
   "metadata": {},
   "outputs": [
    {
     "name": "stdout",
     "output_type": "stream",
     "text": [
      "[['John' 45 22 98 'S']\n",
      " ['William' 44 23 2 'S']\n",
      " ['Henry' 22 89 35 'F']\n",
      " ['Chris' 88 55 23 'A']\n",
      " ['Jack' 45 89 45 'S']\n",
      " ['Stephane' 64 45 48 'C']\n",
      " ['Harald' 12 12 12 'F']\n",
      " ['Hearmy' 78 94 65 'A']\n",
      " ['Sinsel' 98 95 23 'A']\n",
      " ['George' 45 65 89 'S']\n",
      " ['James' 64 32 26 'C']\n",
      " ['Jade' 23 78 47 'F']\n",
      " ['Tommy' 45 98 14 'S']\n",
      " ['Yonus' 78 45 44 'A']\n",
      " ['Randy' 95 12 84 'A']\n",
      " ['Rex' 31 95 98 'F']\n",
      " ['Tucsan' 77 32 56 'A']\n",
      " ['Amell' 87 78 34 'A']\n",
      " ['Vin' 65 45 78 'B']\n",
      " ['Hector' 32 12 78 'F']]\n"
     ]
    }
   ],
   "source": [
    "dataset= np.append(dataset,mathsGrades,axis=1)\n",
    "print(dataset)"
   ]
  },
  {
   "cell_type": "code",
   "execution_count": 17,
   "id": "e753c87a-4f7e-4797-b4e4-69609535c76a",
   "metadata": {},
   "outputs": [
    {
     "name": "stdout",
     "output_type": "stream",
     "text": [
      "[['John' 45 22 98 'S' 'F']\n",
      " ['William' 44 23 2 'S' 'F']\n",
      " ['Henry' 22 89 35 'F' 'A']\n",
      " ['Chris' 88 55 23 'A' 'C']\n",
      " ['Jack' 45 89 45 'S' 'A']\n",
      " ['Stephane' 64 45 48 'C' 'S']\n",
      " ['Harald' 12 12 12 'F' 'F']\n",
      " ['Hearmy' 78 94 65 'A' 'A']\n",
      " ['Sinsel' 98 95 23 'A' 'A']\n",
      " ['George' 45 65 89 'S' 'B']\n",
      " ['James' 64 32 26 'C' 'F']\n",
      " ['Jade' 23 78 47 'F' 'A']\n",
      " ['Tommy' 45 98 14 'S' 'A']\n",
      " ['Yonus' 78 45 44 'A' 'S']\n",
      " ['Randy' 95 12 84 'A' 'F']\n",
      " ['Rex' 31 95 98 'F' 'A']\n",
      " ['Tucsan' 77 32 56 'A' 'F']\n",
      " ['Amell' 87 78 34 'A' 'A']\n",
      " ['Vin' 65 45 78 'B' 'S']\n",
      " ['Hector' 32 12 78 'F' 'F']]\n"
     ]
    }
   ],
   "source": [
    "dataset= np.append(dataset,phyGrades,axis=1)\n",
    "print(dataset)"
   ]
  },
  {
   "cell_type": "code",
   "execution_count": 18,
   "id": "5564bbf2-587a-4d25-aab1-9789f85c491b",
   "metadata": {},
   "outputs": [
    {
     "name": "stdout",
     "output_type": "stream",
     "text": [
      "[['John' 45 22 98 'S' 'F' 'A']\n",
      " ['William' 44 23 2 'S' 'F' 'F']\n",
      " ['Henry' 22 89 35 'F' 'A' 'S']\n",
      " ['Chris' 88 55 23 'A' 'C' 'F']\n",
      " ['Jack' 45 89 45 'S' 'A' 'S']\n",
      " ['Stephane' 64 45 48 'C' 'S' 'S']\n",
      " ['Harald' 12 12 12 'F' 'F' 'F']\n",
      " ['Hearmy' 78 94 65 'A' 'A' 'B']\n",
      " ['Sinsel' 98 95 23 'A' 'A' 'F']\n",
      " ['George' 45 65 89 'S' 'B' 'A']\n",
      " ['James' 64 32 26 'C' 'F' 'F']\n",
      " ['Jade' 23 78 47 'F' 'A' 'S']\n",
      " ['Tommy' 45 98 14 'S' 'A' 'F']\n",
      " ['Yonus' 78 45 44 'A' 'S' 'S']\n",
      " ['Randy' 95 12 84 'A' 'F' 'A']\n",
      " ['Rex' 31 95 98 'F' 'A' 'A']\n",
      " ['Tucsan' 77 32 56 'A' 'F' 'C']\n",
      " ['Amell' 87 78 34 'A' 'A' 'F']\n",
      " ['Vin' 65 45 78 'B' 'S' 'A']\n",
      " ['Hector' 32 12 78 'F' 'F' 'A']]\n"
     ]
    }
   ],
   "source": [
    "dataset= np.append(dataset,chemGrades,axis=1)\n",
    "print(dataset)"
   ]
  },
  {
   "cell_type": "code",
   "execution_count": 18,
   "id": "4266e4bc-3f62-4226-9164-b16a061632a4",
   "metadata": {},
   "outputs": [
    {
     "name": "stdout",
     "output_type": "stream",
     "text": [
      "[['John' 45 22 98 'S' 'F' 'A']\n",
      " ['William' 44 23 2 'S' 'F' 'F']\n",
      " ['Henry' 22 89 35 'F' 'A' 'S']\n",
      " ['Chris' 88 55 23 'A' 'C' 'F']\n",
      " ['Jack' 45 89 45 'S' 'A' 'S']\n",
      " ['Stephane' 64 45 48 'C' 'S' 'S']\n",
      " ['Harald' 12 12 12 'F' 'F' 'F']\n",
      " ['Hearmy' 78 94 65 'A' 'A' 'B']\n",
      " ['Sinsel' 98 95 23 'A' 'A' 'F']\n",
      " ['George' 45 65 89 'S' 'B' 'A']\n",
      " ['James' 64 32 26 'C' 'F' 'F']\n",
      " ['Jade' 23 78 47 'F' 'A' 'S']\n",
      " ['Tommy' 45 98 14 'S' 'A' 'F']\n",
      " ['Yonus' 78 45 44 'A' 'S' 'S']\n",
      " ['Randy' 95 12 84 'A' 'F' 'A']\n",
      " ['Rex' 31 95 98 'F' 'A' 'A']\n",
      " ['Tucsan' 77 32 56 'A' 'F' 'C']\n",
      " ['Amell' 87 78 34 'A' 'A' 'F']\n",
      " ['Vin' 65 45 78 'B' 'S' 'A']\n",
      " ['Hector' 32 12 78 'F' 'F' 'A']]\n"
     ]
    }
   ],
   "source": [
    "dataset= np.append(dataset,chemGrades,axis=1)\n",
    "print(dataset)"
   ]
  },
  {
   "cell_type": "code",
   "execution_count": 19,
   "id": "3d9a203e-4f29-4842-a486-8693d19ccc4a",
   "metadata": {},
   "outputs": [],
   "source": [
    "np.save('new-dataset',dataset)"
   ]
  },
  {
   "cell_type": "code",
   "execution_count": 18,
   "id": "bf41ccab-552c-4480-8229-4bc82ad9c2fd",
   "metadata": {},
   "outputs": [
    {
     "name": "stdout",
     "output_type": "stream",
     "text": [
      "[['John' 45 22 98 'S' 'F' 'A']\n",
      " ['William' 44 23 2 'S' 'F' 'F']\n",
      " ['Henry' 22 89 35 'F' 'A' 'S']\n",
      " ['Chris' 88 55 23 'A' 'C' 'F']\n",
      " ['Jack' 45 89 45 'S' 'A' 'S']\n",
      " ['Stephane' 64 45 48 'C' 'S' 'S']\n",
      " ['Harald' 12 12 12 'F' 'F' 'F']\n",
      " ['Hearmy' 78 94 65 'A' 'A' 'B']\n",
      " ['Sinsel' 98 95 23 'A' 'A' 'F']\n",
      " ['George' 45 65 89 'S' 'B' 'A']\n",
      " ['James' 64 32 26 'C' 'F' 'F']\n",
      " ['Jade' 23 78 47 'F' 'A' 'S']\n",
      " ['Tommy' 45 98 14 'S' 'A' 'F']\n",
      " ['Yonus' 78 45 44 'A' 'S' 'S']\n",
      " ['Randy' 95 12 84 'A' 'F' 'A']\n",
      " ['Rex' 31 95 98 'F' 'A' 'A']\n",
      " ['Tucsan' 77 32 56 'A' 'F' 'C']\n",
      " ['Amell' 87 78 34 'A' 'A' 'F']\n",
      " ['Vin' 65 45 78 'B' 'S' 'A']\n",
      " ['Hector' 32 12 78 'F' 'F' 'A']]\n"
     ]
    }
   ],
   "source": [
    "dataset= np.append(dataset,chemGrades,axis=1)\n",
    "print(dataset)"
   ]
  },
  {
   "cell_type": "code",
   "execution_count": 21,
   "id": "65ac6e9b-b219-41b9-a428-61d8af193e9d",
   "metadata": {},
   "outputs": [
    {
     "name": "stdout",
     "output_type": "stream",
     "text": [
      "[['John' 45 22 98 'S' 'F' 'A' 55.0]\n",
      " ['William' 44 23 2 'S' 'F' 'F' 23.0]\n",
      " ['Henry' 22 89 35 'F' 'A' 'S' 48.666666666666664]\n",
      " ['Chris' 88 55 23 'A' 'C' 'F' 55.333333333333336]\n",
      " ['Jack' 45 89 45 'S' 'A' 'S' 59.666666666666664]\n",
      " ['Stephane' 64 45 48 'C' 'S' 'S' 52.333333333333336]\n",
      " ['Harald' 12 12 12 'F' 'F' 'F' 12.0]\n",
      " ['Hearmy' 78 94 65 'A' 'A' 'B' 79.0]\n",
      " ['Sinsel' 98 95 23 'A' 'A' 'F' 72.0]\n",
      " ['George' 45 65 89 'S' 'B' 'A' 66.33333333333333]\n",
      " ['James' 64 32 26 'C' 'F' 'F' 40.666666666666664]\n",
      " ['Jade' 23 78 47 'F' 'A' 'S' 49.333333333333336]\n",
      " ['Tommy' 45 98 14 'S' 'A' 'F' 52.333333333333336]\n",
      " ['Yonus' 78 45 44 'A' 'S' 'S' 55.666666666666664]\n",
      " ['Randy' 95 12 84 'A' 'F' 'A' 63.666666666666664]\n",
      " ['Rex' 31 95 98 'F' 'A' 'A' 74.66666666666667]\n",
      " ['Tucsan' 77 32 56 'A' 'F' 'C' 55.0]\n",
      " ['Amell' 87 78 34 'A' 'A' 'F' 66.33333333333333]\n",
      " ['Vin' 65 45 78 'B' 'S' 'A' 62.666666666666664]\n",
      " ['Hector' 32 12 78 'F' 'F' 'A' 40.666666666666664]]\n",
      "           0   1   2   3  4  5  6          7\n",
      "0       John  45  22  98  S  F  A       55.0\n",
      "1    William  44  23   2  S  F  F       23.0\n",
      "2      Henry  22  89  35  F  A  S  48.666667\n",
      "3      Chris  88  55  23  A  C  F  55.333333\n",
      "4       Jack  45  89  45  S  A  S  59.666667\n",
      "5   Stephane  64  45  48  C  S  S  52.333333\n",
      "6     Harald  12  12  12  F  F  F       12.0\n",
      "7     Hearmy  78  94  65  A  A  B       79.0\n",
      "8     Sinsel  98  95  23  A  A  F       72.0\n",
      "9     George  45  65  89  S  B  A  66.333333\n",
      "10     James  64  32  26  C  F  F  40.666667\n",
      "11      Jade  23  78  47  F  A  S  49.333333\n",
      "12     Tommy  45  98  14  S  A  F  52.333333\n",
      "13     Yonus  78  45  44  A  S  S  55.666667\n",
      "14     Randy  95  12  84  A  F  A  63.666667\n",
      "15       Rex  31  95  98  F  A  A  74.666667\n",
      "16    Tucsan  77  32  56  A  F  C       55.0\n",
      "17     Amell  87  78  34  A  A  F  66.333333\n",
      "18       Vin  65  45  78  B  S  A  62.666667\n",
      "19    Hector  32  12  78  F  F  A  40.666667\n"
     ]
    }
   ],
   "source": [
    "dataset= np.append(dataset,avg,axis=1)\n",
    "print(dataset)\n",
    "\n",
    "\n",
    "\n",
    "df= pd.DataFrame(data=dataset)\n",
    "print(df)"
   ]
  },
  {
   "cell_type": "code",
   "execution_count": 22,
   "id": "8c0a9910-5d43-4941-a8fa-8d6d838ad2b3",
   "metadata": {},
   "outputs": [
    {
     "name": "stdout",
     "output_type": "stream",
     "text": [
      "        name math phy chem m-grade p-grade c-grade        avg\n",
      "0       John   45  22   98       S       F       A       55.0\n",
      "1    William   44  23    2       S       F       F       23.0\n",
      "2      Henry   22  89   35       F       A       S  48.666667\n",
      "3      Chris   88  55   23       A       C       F  55.333333\n",
      "4       Jack   45  89   45       S       A       S  59.666667\n",
      "5   Stephane   64  45   48       C       S       S  52.333333\n",
      "6     Harald   12  12   12       F       F       F       12.0\n",
      "7     Hearmy   78  94   65       A       A       B       79.0\n",
      "8     Sinsel   98  95   23       A       A       F       72.0\n",
      "9     George   45  65   89       S       B       A  66.333333\n",
      "10     James   64  32   26       C       F       F  40.666667\n",
      "11      Jade   23  78   47       F       A       S  49.333333\n",
      "12     Tommy   45  98   14       S       A       F  52.333333\n",
      "13     Yonus   78  45   44       A       S       S  55.666667\n",
      "14     Randy   95  12   84       A       F       A  63.666667\n",
      "15       Rex   31  95   98       F       A       A  74.666667\n",
      "16    Tucsan   77  32   56       A       F       C       55.0\n",
      "17     Amell   87  78   34       A       A       F  66.333333\n",
      "18       Vin   65  45   78       B       S       A  62.666667\n",
      "19    Hector   32  12   78       F       F       A  40.666667\n"
     ]
    }
   ],
   "source": [
    "df= pd.DataFrame(data=dataset, columns=[\"name\",\"math\",\"phy\",\"chem\",\"m-grade\",\"p-grade\",\"c-grade\",\"avg\"])\n",
    "print(df)"
   ]
  },
  {
   "cell_type": "code",
   "execution_count": 23,
   "id": "df69a4f4-4701-4deb-9b80-238c29d0ac0d",
   "metadata": {},
   "outputs": [],
   "source": [
    "df.to_csv('new-dataset.csv',index=False)"
   ]
  },
  {
   "cell_type": "code",
   "execution_count": null,
   "id": "4d2990d4-6f74-4c10-8933-4d4745cd1772",
   "metadata": {},
   "outputs": [],
   "source": []
  }
 ],
 "metadata": {
  "kernelspec": {
   "display_name": "Python 3 (ipykernel)",
   "language": "python",
   "name": "python3"
  },
  "language_info": {
   "codemirror_mode": {
    "name": "ipython",
    "version": 3
   },
   "file_extension": ".py",
   "mimetype": "text/x-python",
   "name": "python",
   "nbconvert_exporter": "python",
   "pygments_lexer": "ipython3",
   "version": "3.12.0"
  }
 },
 "nbformat": 4,
 "nbformat_minor": 5
}
